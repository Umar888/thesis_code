{
 "cells": [
  {
   "cell_type": "code",
   "execution_count": 1,
   "id": "5da829ca",
   "metadata": {},
   "outputs": [
    {
     "name": "stdout",
     "output_type": "stream",
     "text": [
      "/Users/revglue/study/main_work/my_working/testing_pdf/W06-0202.pdf-----------------------------------------\n",
      "/Users/revglue/study/main_work/my_working/testing_pdf/W06-0202.pdf\n",
      "/Users/revglue/study/main_work/my_working/testing_pdf/A97-1011.pdf-----------------------------------------\n",
      "/Users/revglue/study/main_work/my_working/testing_pdf/A97-1011.pdf\n",
      "/Users/revglue/study/main_work/my_working/testing_pdf/A00-1043.pdf-----------------------------------------\n",
      "/Users/revglue/study/main_work/my_working/testing_pdf/A00-1043.pdf\n",
      "/Users/revglue/study/main_work/my_working/testing_pdf/C00-2099.pdf-----------------------------------------\n",
      "/Users/revglue/study/main_work/my_working/testing_pdf/C00-2099.pdf\n",
      "/Users/revglue/study/main_work/my_working/testing_pdf/W04-1505.pdf-----------------------------------------\n",
      "/Users/revglue/study/main_work/my_working/testing_pdf/W04-1505.pdf\n",
      "/Users/revglue/study/main_work/my_working/testing_pdf/P99-1033.pdf-----------------------------------------\n",
      "/Users/revglue/study/main_work/my_working/testing_pdf/P99-1033.pdf\n",
      "/Users/revglue/study/main_work/my_working/testing_pdf/A00-2017.pdf-----------------------------------------\n",
      "/Users/revglue/study/main_work/my_working/testing_pdf/A00-2017.pdf\n",
      "/Users/revglue/study/main_work/my_working/testing_pdf/P02-1057.pdf-----------------------------------------\n",
      "/Users/revglue/study/main_work/my_working/testing_pdf/P02-1057.pdf\n",
      "/Users/revglue/study/main_work/my_working/testing_pdf/P01-1006.pdf-----------------------------------------\n",
      "/Users/revglue/study/main_work/my_working/testing_pdf/P01-1006.pdf\n",
      "/Users/revglue/study/main_work/my_working/testing_pdf/E12-1072.pdf-----------------------------------------\n",
      "/Users/revglue/study/main_work/my_working/testing_pdf/E12-1072.pdf\n",
      "/Users/revglue/study/main_work/my_working/testing_pdf/W09-1118.pdf-----------------------------------------\n",
      "/Users/revglue/study/main_work/my_working/testing_pdf/W09-1118.pdf\n",
      "/Users/revglue/study/main_work/my_working/testing_pdf/C00-2140.pdf-----------------------------------------\n",
      "/Users/revglue/study/main_work/my_working/testing_pdf/C00-2140.pdf\n"
     ]
    }
   ],
   "source": [
    "import PyPDF2\n",
    "import re\n",
    "import operator\n",
    "import os\n",
    "import glob\n",
    "from tika import parser\n",
    "\n",
    "for file in glob.glob(\"/Users/revglue/study/main_work/my_working/testing_pdf/*pdf\"):\n",
    "    write = file \n",
    "    print(write+\"-----------------------------------------\")\n",
    "    sample_file = open(write, 'rb')\n",
    "    print(sample_file.name)\n",
    "    raw = parser.from_file(sample_file)\n",
    "    file1=open(os.path.splitext(sample_file.name)[0]+\".txt\",\"a\")\n",
    "    file1.writelines(raw['content'])"
   ]
  }
 ],
 "metadata": {
  "kernelspec": {
   "display_name": "Python 3 (ipykernel)",
   "language": "python",
   "name": "python3"
  },
  "language_info": {
   "codemirror_mode": {
    "name": "ipython",
    "version": 3
   },
   "file_extension": ".py",
   "mimetype": "text/x-python",
   "name": "python",
   "nbconvert_exporter": "python",
   "pygments_lexer": "ipython3",
   "version": "3.9.7"
  }
 },
 "nbformat": 4,
 "nbformat_minor": 5
}
